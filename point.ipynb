{
 "cells": [
  {
   "cell_type": "code",
   "execution_count": 1,
   "id": "5d9935ed",
   "metadata": {},
   "outputs": [
    {
     "ename": "ModuleNotFoundError",
     "evalue": "No module named 'open3d'",
     "output_type": "error",
     "traceback": [
      "\u001b[1;31m---------------------------------------------------------------------------\u001b[0m",
      "\u001b[1;31mModuleNotFoundError\u001b[0m                       Traceback (most recent call last)",
      "Cell \u001b[1;32mIn[1], line 1\u001b[0m\n\u001b[1;32m----> 1\u001b[0m \u001b[38;5;28;01mimport\u001b[39;00m \u001b[38;5;21;01mopen3d\u001b[39;00m \u001b[38;5;28;01mas\u001b[39;00m \u001b[38;5;21;01mo3d\u001b[39;00m\n\u001b[0;32m      2\u001b[0m \u001b[38;5;28;01mimport\u001b[39;00m \u001b[38;5;21;01mnumpy\u001b[39;00m \u001b[38;5;28;01mas\u001b[39;00m \u001b[38;5;21;01mnp\u001b[39;00m\n\u001b[0;32m      4\u001b[0m \u001b[38;5;66;03m# 读取点云数据\u001b[39;00m\n",
      "\u001b[1;31mModuleNotFoundError\u001b[0m: No module named 'open3d'"
     ]
    }
   ],
   "source": [
    "import open3d as o3d\n",
    "import numpy as np\n",
    "\n",
    "# 读取点云数据\n",
    "pt_cloud = o3d.io.read_point_cloud(\"C:\\\\Users\\Hachi\\Desktop\\point model\\H.ply\")\n",
    "# 显示点云\n",
    "o3d.visualization.draw_geometries([pt_cloud])\n",
    "# 获取点云的坐标\n",
    "points = np.round(np.asarray(pt_cloud.points)).astype(int)\n",
    "\n",
    "# 显示数组格式的点云\n",
    "print(points)"
   ]
  },
  {
   "cell_type": "code",
   "execution_count": 21,
   "id": "355db0df",
   "metadata": {},
   "outputs": [
    {
     "name": "stdout",
     "output_type": "stream",
     "text": [
      "数组长度: 48485\n"
     ]
    }
   ],
   "source": [
    "length = points.shape[0]\n",
    "print(\"数组长度:\", length)"
   ]
  },
  {
   "cell_type": "code",
   "execution_count": 12,
   "id": "31a07930",
   "metadata": {},
   "outputs": [
    {
     "name": "stdout",
     "output_type": "stream",
     "text": [
      "符号位: 1\n",
      "数字部分: 100\n"
     ]
    }
   ],
   "source": [
    " #x = points[0]\n",
    "#print(x)\n",
    "x = -4\n",
    "binary_representation = np.binary_repr(x, width=4)\n",
    "\n",
    "# 分离符号位和数字部分\n",
    "sign_bit = binary_representation[0]  # 符号位\n",
    "number_part = binary_representation[1:]  # 数字部分\n",
    "\n",
    "# 显示结果\n",
    "print(\"符号位:\", sign_bit)\n",
    "print(\"数字部分:\", number_part)"
   ]
  },
  {
   "cell_type": "code",
   "execution_count": 19,
   "id": "b257bfe6",
   "metadata": {},
   "outputs": [
    {
     "name": "stdout",
     "output_type": "stream",
     "text": [
      "数的二进制表示: 100\n",
      "数的二进制长度: 3\n"
     ]
    }
   ],
   "source": [
    "number = 4# 要获取二进制长度的数\n",
    "\n",
    "# 使用 bin() 函数将整数转换为二进制字符串，并使用 len() 获取长度\n",
    "binary_representation = bin(abs(number))[2:]  # 去掉前缀 \"0b\"，取绝对值\n",
    "binary_length = len(binary_representation)\n",
    "\n",
    "# 显示结果\n",
    "print(\"数的二进制表示:\", binary_representation)\n",
    "print(\"数的二进制长度:\", binary_length)\n"
   ]
  },
  {
   "cell_type": "code",
   "execution_count": 2,
   "id": "47643b38",
   "metadata": {},
   "outputs": [
    {
     "name": "stdout",
     "output_type": "stream",
     "text": [
      "请输入你的身高：180\n",
      "王子身高\n"
     ]
    }
   ],
   "source": [
    "ans = int(input('请输入你的身高：'))\n",
    "if ans < 180:\n",
    "    print('一般身高')\n",
    "elif 180<= ans < 185:\n",
    "    print('王子身高')\n",
    "elif 185<= ans < 190:\n",
    "    print('男神身高')\n",
    "else:\n",
    "    print('巨人身高')"
   ]
  },
  {
   "cell_type": "code",
   "execution_count": null,
   "id": "4f3f5bc5",
   "metadata": {},
   "outputs": [],
   "source": []
  }
 ],
 "metadata": {
  "kernelspec": {
   "display_name": "Nqis",
   "language": "python",
   "name": "nqis"
  },
  "language_info": {
   "codemirror_mode": {
    "name": "ipython",
    "version": 3
   },
   "file_extension": ".py",
   "mimetype": "text/x-python",
   "name": "python",
   "nbconvert_exporter": "python",
   "pygments_lexer": "ipython3",
   "version": "3.9.18"
  }
 },
 "nbformat": 4,
 "nbformat_minor": 5
}
