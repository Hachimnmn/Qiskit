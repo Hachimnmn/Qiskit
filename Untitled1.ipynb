{
 "cells": [
  {
   "cell_type": "code",
   "execution_count": 1,
   "id": "911fd162",
   "metadata": {},
   "outputs": [
    {
     "data": {
      "text/plain": [
       "(-0.5000000000000273, 74.50000000000023, -110.00000000000045)"
      ]
     },
     "execution_count": 1,
     "metadata": {},
     "output_type": "execute_result"
    }
   ],
   "source": [
    "import numpy as np\n",
    "\n",
    "# 系数矩阵\n",
    "A = np.array([\n",
    "    [9, 3, 1],\n",
    "    [16, 4, 1],\n",
    "    [25, 5, 1]\n",
    "])\n",
    "\n",
    "# 结果向量\n",
    "B = np.array([109, 180, 250])\n",
    "\n",
    "# 求解线性方程组\n",
    "coefficients = np.linalg.solve(A, B)\n",
    "a, b, c = coefficients\n",
    "\n",
    "a, b, c\n"
   ]
  },
  {
   "cell_type": "code",
   "execution_count": 2,
   "id": "91297cbe",
   "metadata": {},
   "outputs": [
    {
     "name": "stdout",
     "output_type": "stream",
     "text": [
      "a = -0.5000000000000273, b = 74.50000000000023, c = -110.00000000000045\n",
      "Depth for n=3: 108.99999999999997 (expected: 109)\n",
      "Depth for n=4: 180.0 (expected: 180)\n",
      "Depth for n=5: 250.0 (expected: 250)\n"
     ]
    }
   ],
   "source": [
    "import numpy as np\n",
    "\n",
    "# 系数矩阵\n",
    "A = np.array([\n",
    "    [9, 3, 1],\n",
    "    [16, 4, 1],\n",
    "    [25, 5, 1]\n",
    "])\n",
    "\n",
    "# 结果向量\n",
    "B = np.array([109, 180, 250])\n",
    "\n",
    "# 求解线性方程组\n",
    "coefficients = np.linalg.solve(A, B)\n",
    "a, b, c = coefficients\n",
    "\n",
    "# 打印系数\n",
    "print(f\"a = {a}, b = {b}, c = {c}\")\n",
    "\n",
    "# 验证\n",
    "def depth(n):\n",
    "    return a * n**2 + b * n + c\n",
    "\n",
    "print(f\"Depth for n=3: {depth(3)} (expected: 109)\")\n",
    "print(f\"Depth for n=4: {depth(4)} (expected: 180)\")\n",
    "print(f\"Depth for n=5: {depth(5)} (expected: 250)\")\n"
   ]
  },
  {
   "cell_type": "code",
   "execution_count": null,
   "id": "e1297cb7",
   "metadata": {},
   "outputs": [],
   "source": []
  }
 ],
 "metadata": {
  "kernelspec": {
   "display_name": "Nqis",
   "language": "python",
   "name": "nqis"
  },
  "language_info": {
   "codemirror_mode": {
    "name": "ipython",
    "version": 3
   },
   "file_extension": ".py",
   "mimetype": "text/x-python",
   "name": "python",
   "nbconvert_exporter": "python",
   "pygments_lexer": "ipython3",
   "version": "3.9.18"
  }
 },
 "nbformat": 4,
 "nbformat_minor": 5
}
